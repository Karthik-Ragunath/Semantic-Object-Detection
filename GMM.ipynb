{
 "cells": [
  {
   "cell_type": "code",
   "execution_count": 1,
   "id": "32bbe2cd-7d9c-417e-8f90-c4c4887a1d73",
   "metadata": {},
   "outputs": [],
   "source": [
    "import torch"
   ]
  },
  {
   "cell_type": "code",
   "execution_count": 2,
   "id": "d2618362-8023-4c3c-9409-db06f1540897",
   "metadata": {},
   "outputs": [
    {
     "data": {
      "text/plain": [
       "True"
      ]
     },
     "execution_count": 2,
     "metadata": {},
     "output_type": "execute_result"
    }
   ],
   "source": [
    "torch.cuda.is_available()"
   ]
  },
  {
   "cell_type": "code",
   "execution_count": 11,
   "id": "9fe76dc9-bc1a-4e51-98fa-eeda587cecbf",
   "metadata": {},
   "outputs": [],
   "source": [
    "import pandas as pd\n",
    "import numpy as np\n",
    "import cv2\n",
    "import matplotlib.pyplot as plt\n",
    "import json\n",
    "import glob as glob\n",
    "import os"
   ]
  },
  {
   "cell_type": "code",
   "execution_count": 4,
   "id": "39010f86-14e6-43c5-8f9b-a2d0e452531c",
   "metadata": {},
   "outputs": [],
   "source": [
    "import albumentations as A"
   ]
  },
  {
   "cell_type": "code",
   "execution_count": 7,
   "id": "45a86291-ca2f-47df-968c-3cdb114a99d1",
   "metadata": {},
   "outputs": [],
   "source": [
    "def crop_bounding_boxes(x_min = None, y_min = None, x_max = None, y_max = None):\n",
    "    return A.Compose([\n",
    "        A.Crop(x_min = x_min, y_min = y_min, x_max = x_max, y_max = y_max)\n",
    "    ])"
   ]
  },
  {
   "cell_type": "code",
   "execution_count": 15,
   "id": "63360517-6d77-45f9-8912-f6edb564b3cf",
   "metadata": {},
   "outputs": [],
   "source": [
    "# training images and XML files directory\n",
    "TRAIN_DIR = 'data/out_rgb'\n",
    "# validation images and XML files directory\n",
    "VALID_DIR = 'data/out_rgb'\n",
    "\n",
    "dir_path = TRAIN_DIR\n",
    "\n",
    "image_paths = glob.glob(f\"{dir_path}/*.png\")\n",
    "all_images = [image_path.split('/')[-1].split('.')[0] for image_path in image_paths]\n",
    "all_images = sorted(all_images)\n",
    "\n",
    "boxed_image_dir = 'data/out_rgb_bbox'\n",
    "boxed_image_paths = glob.glob(f\"{boxed_image_dir}/*.png\")\n",
    "all_boxed_images = [boxed_image_path.split('/')[-1].split('.')[0] for boxed_image_path in boxed_image_paths]\n",
    "all_boxed_images = sorted(all_boxed_images)\n",
    "\n",
    "\n",
    "# FileNames Dictionary\n",
    "filenames = dict()\n",
    "for sub_dir, dir_name, files in os.walk(\"data/out_bbox/\"):\n",
    "    for file in files:\n",
    "        try:\n",
    "            with open(\"data/out_bbox/\" + file, 'r') as fp:\n",
    "                file = file.split('.')[0]\n",
    "                filenames[file] = json.load(fp)\n",
    "        except Exception as e:\n",
    "            pass"
   ]
  },
  {
   "cell_type": "code",
   "execution_count": 16,
   "id": "e93f617d-f5e0-4d69-bdaa-674702cd257c",
   "metadata": {},
   "outputs": [
    {
     "data": {
      "text/plain": [
       "2798"
      ]
     },
     "execution_count": 16,
     "metadata": {},
     "output_type": "execute_result"
    }
   ],
   "source": [
    "len(filenames)"
   ]
  },
  {
   "cell_type": "code",
   "execution_count": 17,
   "id": "24c51d6d-fade-44d7-9247-619449bf44c6",
   "metadata": {},
   "outputs": [
    {
     "data": {
      "text/plain": [
       "2779"
      ]
     },
     "execution_count": 17,
     "metadata": {},
     "output_type": "execute_result"
    }
   ],
   "source": [
    "len(all_images)"
   ]
  },
  {
   "cell_type": "code",
   "execution_count": 18,
   "id": "f269e2d6-3158-4e6d-9d95-71f9b0a09125",
   "metadata": {},
   "outputs": [
    {
     "data": {
      "text/plain": [
       "2779"
      ]
     },
     "execution_count": 18,
     "metadata": {},
     "output_type": "execute_result"
    }
   ],
   "source": [
    "len(all_boxed_images)"
   ]
  },
  {
   "cell_type": "code",
   "execution_count": 116,
   "id": "473efef0-5320-4e7d-a1c5-67de651c1fc1",
   "metadata": {},
   "outputs": [
    {
     "name": "stdout",
     "output_type": "stream",
     "text": [
      "[[584.5990071947347, 330.1428855212734, 740.8814361405255, 402.92577998910133]]\n"
     ]
    }
   ],
   "source": [
    "sample_image = \"134698\"\n",
    "image_annotation = filenames[sample_image]\n",
    "boxes = []\n",
    "if image_annotation[\"bboxes\"]:\n",
    "    for box_coordinates in image_annotation[\"bboxes\"]:\n",
    "        if box_coordinates:\n",
    "            x_min = box_coordinates[0][0]\n",
    "            y_min = box_coordinates[0][1]\n",
    "            x_max = box_coordinates[1][0]\n",
    "            y_max = box_coordinates[1][1]\n",
    "            boxes.append([x_min, y_min, x_max, y_max])\n",
    "print(boxes)"
   ]
  },
  {
   "cell_type": "code",
   "execution_count": 117,
   "id": "f1c04f4b-76e3-4aba-bfd9-d3fbaa2408b2",
   "metadata": {},
   "outputs": [],
   "source": [
    "x_min, y_min, x_max, y_max = boxes[0]"
   ]
  },
  {
   "cell_type": "code",
   "execution_count": 118,
   "id": "eb55d3ff-d359-494d-b871-deadf13adb6d",
   "metadata": {},
   "outputs": [],
   "source": [
    "image_path = os.path.join(dir_path, sample_image + '.png')\n",
    "image = cv2.imread(image_path)\n",
    "image = cv2.cvtColor(image, cv2.COLOR_BGR2RGB).astype(np.float32)"
   ]
  },
  {
   "cell_type": "code",
   "execution_count": 119,
   "id": "c2629e4a-adc4-4f8a-be91-0b2b374966cc",
   "metadata": {},
   "outputs": [
    {
     "data": {
      "text/plain": [
       "(600, 800, 3)"
      ]
     },
     "execution_count": 119,
     "metadata": {},
     "output_type": "execute_result"
    }
   ],
   "source": [
    "image.shape"
   ]
  },
  {
   "cell_type": "code",
   "execution_count": 120,
   "id": "f31a2a86-1ab8-4ca0-805c-0c805ed1b715",
   "metadata": {},
   "outputs": [
    {
     "data": {
      "text/plain": [
       "(512, 512, 3)"
      ]
     },
     "execution_count": 120,
     "metadata": {},
     "output_type": "execute_result"
    }
   ],
   "source": [
    "image_resized = cv2.resize(image, (512, 512))\n",
    "image_resized.shape"
   ]
  },
  {
   "cell_type": "code",
   "execution_count": 121,
   "id": "4bdc24cb-350a-4ee9-a9b0-53d773ffae4c",
   "metadata": {},
   "outputs": [],
   "source": [
    "from albumentations.augmentations.crops.transforms import Crop"
   ]
  },
  {
   "cell_type": "code",
   "execution_count": 122,
   "id": "bac11da3-5688-4428-9e97-1990e029fdfd",
   "metadata": {},
   "outputs": [],
   "source": [
    "crop = Crop()"
   ]
  },
  {
   "cell_type": "code",
   "execution_count": 123,
   "id": "1f74cf43-00a2-46b2-9962-6be6cc24841f",
   "metadata": {},
   "outputs": [
    {
     "name": "stdout",
     "output_type": "stream",
     "text": [
      "<class 'float'>\n"
     ]
    }
   ],
   "source": [
    "print(type(x_min))\n",
    "transform = A.Compose(\n",
    "    [\n",
    "        Crop(x_min=int(x_min), y_min=int(y_min), x_max=int(x_max), y_max=int(y_max))\n",
    "    ])\n",
    "transformed_image = transform(image = image)"
   ]
  },
  {
   "cell_type": "code",
   "execution_count": 124,
   "id": "a9231492-cd7c-469c-8e48-4c9fe2a2f4cd",
   "metadata": {},
   "outputs": [
    {
     "data": {
      "text/plain": [
       "(600, 800, 3)"
      ]
     },
     "execution_count": 124,
     "metadata": {},
     "output_type": "execute_result"
    }
   ],
   "source": [
    "image.shape"
   ]
  },
  {
   "cell_type": "code",
   "execution_count": 125,
   "id": "9d692550-ea6b-4eaf-80ce-5f1641052972",
   "metadata": {},
   "outputs": [
    {
     "data": {
      "text/plain": [
       "(72, 156, 3)"
      ]
     },
     "execution_count": 125,
     "metadata": {},
     "output_type": "execute_result"
    }
   ],
   "source": [
    "transformed_image['image'].shape"
   ]
  },
  {
   "cell_type": "code",
   "execution_count": 134,
   "id": "ca5c97c5-d705-4108-829f-655c34466950",
   "metadata": {},
   "outputs": [
    {
     "name": "stdout",
     "output_type": "stream",
     "text": [
      "torch.Size([72, 156, 3])\n"
     ]
    }
   ],
   "source": [
    "print(torch.tensor(transformed_image['image']).shape)\n",
    "sampled_image = torch.tensor(transformed_image['image'])\n",
    "sampled_image = cv2.cvtColor(np.float32(sampled_image), cv2.COLOR_RGB2GRAY)\n",
    "fig = plt.figure()\n",
    "# plt.plot(sampled_image)\n",
    "plt.imshow(sampled_image)\n",
    "plt.savefig('transformed_image.png')\n",
    "plt.close(fig)"
   ]
  },
  {
   "cell_type": "code",
   "execution_count": 110,
   "id": "8c401d33-583c-4e0d-9aeb-88bb4480ce39",
   "metadata": {},
   "outputs": [
    {
     "data": {
      "text/plain": [
       "(600, 800, 3)"
      ]
     },
     "execution_count": 110,
     "metadata": {},
     "output_type": "execute_result"
    }
   ],
   "source": [
    "image.shape"
   ]
  },
  {
   "cell_type": "code",
   "execution_count": 111,
   "id": "d7bf5e9c-c0b4-4005-adc9-090f6df2d144",
   "metadata": {},
   "outputs": [
    {
     "data": {
      "text/plain": [
       "<matplotlib.image.AxesImage at 0x7fdbe418f8b0>"
      ]
     },
     "execution_count": 111,
     "metadata": {},
     "output_type": "execute_result"
    },
    {
     "data": {
      "image/png": "[encoded data removed]",
      "text/plain": [
       "<Figure size 432x288 with 1 Axes>"
      ]
     },
     "metadata": {
      "needs_background": "light"
     },
     "output_type": "display_data"
    }
   ],
   "source": [
    "image = cv2.cvtColor(np.float32(image), cv2.COLOR_RGB2GRAY)\n",
    "plt.imshow(image)"
   ]
  },
  {
   "cell_type": "code",
   "execution_count": 145,
   "id": "92dd2356-6e29-45b1-b88f-3692adb6e576",
   "metadata": {},
   "outputs": [],
   "source": [
    "images_with_boxes = []\n",
    "images_without_boxes = []\n",
    "for filename in filenames.keys():\n",
    "    image_annotation = filenames[filename]\n",
    "    boxes = []\n",
    "    if image_annotation[\"bboxes\"]:\n",
    "        for box_coordinates in image_annotation[\"bboxes\"]:\n",
    "            if box_coordinates:\n",
    "                x_min = box_coordinates[0][0]\n",
    "                y_min = box_coordinates[0][1]\n",
    "                x_max = box_coordinates[1][0]\n",
    "                y_max = box_coordinates[1][1]\n",
    "                boxes.append([x_min, y_min, x_max, y_max])\n",
    "    if boxes:\n",
    "        images_with_boxes.append(filename)\n",
    "        for index, box in enumerate(boxes):\n",
    "            try:\n",
    "                x_min, y_min, x_max, y_max = box\n",
    "                image_path = os.path.join(dir_path, filename + '.png')\n",
    "                image = cv2.imread(image_path)\n",
    "                image = cv2.cvtColor(image, cv2.COLOR_BGR2RGB).astype(np.float32)\n",
    "                transform = A.Compose(\n",
    "                    [\n",
    "                        Crop(x_min=int(x_min), y_min=int(y_min), x_max=int(x_max), y_max=int(y_max))\n",
    "                    ])\n",
    "                transformed_image = transform(image = image)\n",
    "                sampled_image = torch.tensor(transformed_image['image'])\n",
    "                sampled_image = cv2.cvtColor(np.float32(sampled_image), cv2.COLOR_RGB2GRAY)\n",
    "                fig = plt.figure()\n",
    "                plt.imshow(sampled_image)\n",
    "                plt.savefig('data/cropped_images/' + filename + '_{image_index}.png'.format(image_index=index))\n",
    "                plt.close(fig)\n",
    "            except Exception as e:\n",
    "                print(e)\n",
    "    else:\n",
    "        images_without_boxes.append(filename)"
   ]
  },
  {
   "cell_type": "code",
   "execution_count": 146,
   "id": "9ab1cb38-a068-4f4f-9033-562b0ecf5326",
   "metadata": {},
   "outputs": [],
   "source": [
    "with open('images_with_boxes.json', 'w') as fp:\n",
    "    json.dump(images_with_boxes, fp, indent=4)"
   ]
  },
  {
   "cell_type": "code",
   "execution_count": 147,
   "id": "a1dd8a53-3215-4d45-a07d-7054e53c4b7a",
   "metadata": {},
   "outputs": [],
   "source": [
    "with open('images_without_boxes.json', 'w') as fp:\n",
    "    json.dump(images_without_boxes, fp, indent=4)"
   ]
  },
  {
   "cell_type": "code",
   "execution_count": 148,
   "id": "9b02934f-8f38-42a8-a217-7f2210e6e572",
   "metadata": {},
   "outputs": [
    {
     "data": {
      "text/plain": [
       "['004535', '004555', '004575', '004595', '004615']"
      ]
     },
     "execution_count": 148,
     "metadata": {},
     "output_type": "execute_result"
    }
   ],
   "source": [
    "images_without_boxes[:5]"
   ]
  },
  {
   "cell_type": "code",
   "execution_count": 149,
   "id": "a7170cd6-aa24-4c8b-ab3d-187b8817e7f4",
   "metadata": {},
   "outputs": [
    {
     "data": {
      "text/plain": [
       "['105855', '105875', '105895', '105915', '105955']"
      ]
     },
     "execution_count": 149,
     "metadata": {},
     "output_type": "execute_result"
    }
   ],
   "source": [
    "images_with_boxes[:5]"
   ]
  },
  {
   "cell_type": "code",
   "execution_count": 150,
   "id": "b49864f2-fe70-4b5b-ae0f-37f5e4b895d3",
   "metadata": {},
   "outputs": [],
   "source": [
    "from albumentations.augmentations.crops.transforms import RandomCrop"
   ]
  },
  {
   "cell_type": "code",
   "execution_count": 154,
   "id": "ea4444ec-b720-4952-a95b-39e6ae9d7988",
   "metadata": {},
   "outputs": [],
   "source": [
    "for filename in images_without_boxes:\n",
    "    try:\n",
    "        image_path = os.path.join(dir_path, filename + '.png')\n",
    "        image = cv2.imread(image_path)\n",
    "        image = cv2.cvtColor(image, cv2.COLOR_BGR2RGB).astype(np.float32)\n",
    "        random_crop_transform = A.Compose(\n",
    "            [\n",
    "                RandomCrop(height=150, width=150)\n",
    "            ])\n",
    "        transformed_image = random_crop_transform(image = image)\n",
    "        sampled_image = torch.tensor(transformed_image['image'])\n",
    "        sampled_image = cv2.cvtColor(np.float32(sampled_image), cv2.COLOR_RGB2GRAY)\n",
    "        fig = plt.figure()\n",
    "        plt.imshow(sampled_image)\n",
    "        plt.savefig('data/random_cropped/' + filename + '.png')\n",
    "        plt.close(fig)\n",
    "    except Exception as e:\n",
    "        print(filename)"
   ]
  },
  {
   "cell_type": "code",
   "execution_count": null,
   "id": "1d9c45ae-5cc3-429a-87ad-8c10d79acc3d",
   "metadata": {},
   "outputs": [],
   "source": []
  }
 ],
 "metadata": {
  "kernelspec": {
   "display_name": "Python 3 (ipykernel)",
   "language": "python",
   "name": "python3"
  },
  "language_info": {
   "codemirror_mode": {
    "name": "ipython",
    "version": 3
   },
   "file_extension": ".py",
   "mimetype": "text/x-python",
   "name": "python",
   "nbconvert_exporter": "python",
   "pygments_lexer": "ipython3",
   "version": "3.8.6"
  }
 },
 "nbformat": 4,
 "nbformat_minor": 5
}
